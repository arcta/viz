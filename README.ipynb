{
 "cells": [
  {
   "cell_type": "markdown",
   "metadata": {},
   "source": [
    "# Interactive Visualization ( D3 ) in Jupyter Notebook"
   ]
  },
  {
   "cell_type": "markdown",
   "metadata": {},
   "source": [
    "This project is integrated with <a href=\"https://github.com/arcta/server-setup\">Data-Science R&amp;D on Ubuntu</a> and comes as a part of a server setup. Main focus on the data exploration process itself; identifying scenarios where interactivity has actual advantage for finding insights. Main objective is support for interactive visuals embedded in the notebook with ability to save insights as deep-links.\n",
    "\n",
    "While in development contents are stored in redis; when the notebook published all included visuals compiled and stored in the file-system, s3/gc bucket, memcache, etc.\n",
    "\n",
    "Supported data sources:\n",
    "* static ( json )\n",
    "* dynamic ( url end-point )\n",
    "* stream ( pubsub channel )\n",
    "\n",
    "Dynamic & stream are intended for monitoring and saving static (data) snapshots for insights."
   ]
  },
  {
   "cell_type": "code",
   "execution_count": null,
   "metadata": {
    "collapsed": false
   },
   "outputs": [],
   "source": [
    "# use local file system to store compiled visuals\n",
    "from viz import local\n",
    "viz = local.VizNotebook('http://192.168.1.145:4006')"
   ]
  },
  {
   "cell_type": "code",
   "execution_count": null,
   "metadata": {
    "collapsed": false
   },
   "outputs": [],
   "source": [
    "import numpy\n",
    "import pandas\n",
    "from datetime import datetime \n",
    "from time import time\n",
    "\n",
    "# generate some data\n",
    "df = pandas.DataFrame(numpy.random.randn(1000, 3), columns=list('ABC'))\n",
    "df['B'] = df['B'].apply(lambda b: 1 + 1000*abs(b))\n",
    "df['C'] = df['A'].apply(lambda a: 1000*a*a) - df['B']\n",
    "df.head()"
   ]
  },
  {
   "cell_type": "code",
   "execution_count": null,
   "metadata": {
    "collapsed": false
   },
   "outputs": [],
   "source": [
    "df.describe()"
   ]
  },
  {
   "cell_type": "code",
   "execution_count": null,
   "metadata": {
    "collapsed": false
   },
   "outputs": [],
   "source": [
    "import json\n",
    "\n",
    "# data format: dictionary per observation\n",
    "\n",
    "### flaten pivot table to get required json format\n",
    "# df = pandas.DataFrame(df.to_records())\n",
    "\n",
    "### keep the index\n",
    "# data = df.reset_index().to_json(orient='records')\n",
    "\n",
    "data = df.to_json(orient='records')\n",
    "print(json.loads(data)[0])"
   ]
  },
  {
   "cell_type": "code",
   "execution_count": null,
   "metadata": {
    "collapsed": false
   },
   "outputs": [],
   "source": [
    "viz.summary(data, height=350)"
   ]
  },
  {
   "cell_type": "code",
   "execution_count": null,
   "metadata": {
    "collapsed": false
   },
   "outputs": [],
   "source": [
    "viz.static(data, type='matrix', height=350, width='95%',\n",
    "           x='A',\n",
    "           y='B',\n",
    "           colormap=['lightgray','red'],\n",
    "           zbins=4)"
   ]
  },
  {
   "cell_type": "code",
   "execution_count": null,
   "metadata": {
    "collapsed": false
   },
   "outputs": [],
   "source": [
    "viz.static(data, type='matrix', height=350, width='95%',\n",
    "           x='A',\n",
    "           y='B',\n",
    "           z='C',\n",
    "           colormap=['teal','crimson'],\n",
    "           zbins=4)"
   ]
  },
  {
   "cell_type": "code",
   "execution_count": null,
   "metadata": {
    "collapsed": false
   },
   "outputs": [],
   "source": [
    "viz.static(data, type='scatter', height=350, width='95%',\n",
    "           x='A',\n",
    "           y='B',\n",
    "           z='C',\n",
    "           colormap=['teal','crimson'])"
   ]
  },
  {
   "cell_type": "code",
   "execution_count": null,
   "metadata": {
    "collapsed": false
   },
   "outputs": [],
   "source": [
    "# dynamic data source\n",
    "df = pandas.read_json('http://192.168.1.145:4004/sample/100')\n",
    "df.head()"
   ]
  },
  {
   "cell_type": "code",
   "execution_count": null,
   "metadata": {
    "collapsed": false
   },
   "outputs": [],
   "source": [
    "# loads current data on access\n",
    "viz.dynamic('http://192.168.1.145:4004/sample/100', type='area', height=350, width='100%',\n",
    "            x='D',\n",
    "            y=['B','F'],\n",
    "            mode='wiggle',\n",
    "            title='Area-Chart ( data loads on access )')"
   ]
  },
  {
   "cell_type": "code",
   "execution_count": null,
   "metadata": {
    "collapsed": true
   },
   "outputs": [],
   "source": [
    "# use redis pubsub to stream data\n",
    "from viz import pubsub\n",
    "viz = pubsub.VizNotebook('http://192.168.1.145:4006')"
   ]
  },
  {
   "cell_type": "code",
   "execution_count": null,
   "metadata": {
    "collapsed": false
   },
   "outputs": [],
   "source": [
    "# listens to pubsub messages channel `sample-io`\n",
    "viz.stream('http://192.168.1.107:4017/sample-io', type='line', height=350, width='100%',\n",
    "            x='D',\n",
    "            y=['A','B','E'],\n",
    "            title='Line-Chart ( data appended as arrived )',\n",
    "            interpolate='Basis',\n",
    "            mode='normalized',\n",
    "            xformat='%H:%M:%S')"
   ]
  },
  {
   "cell_type": "markdown",
   "metadata": {},
   "source": [
    "With non-static data Marker tool creates static data snapshots.\n",
    "\n",
    "More examples @ <a href=\"http://www.arcta.me/projects/viz/\">Project-Home</a>:\n",
    "* <a href=\"http://www.arcta.me/projects/viz/examples/matrix/index.html\">Matrix</a>\n",
    "* <a href=\"http://www.arcta.me/projects/viz/examples/scatter/index.html\">Scatter</a>\n",
    "* <a href=\"http://www.arcta.me/projects/viz/examples/line/index.html\">Timeseries</a>\n",
    "* <a href=\"http://www.arcta.me/projects/viz/examples/area/index.html\">Area</a>"
   ]
  },
  {
   "cell_type": "code",
   "execution_count": null,
   "metadata": {
    "collapsed": false
   },
   "outputs": [],
   "source": [
    "# compile static resources and save in destination\n",
    "viz.publish(path_publish='projects/viz/app/static', path_notebook='projects/viz/README')"
   ]
  },
  {
   "cell_type": "markdown",
   "metadata": {},
   "source": [
    "#### Run in Docker Container "
   ]
  },
  {
   "cell_type": "markdown",
   "metadata": {},
   "source": [
    "To run viz-server in a docker container:\n",
    "<pre>\n",
    "docker run --name latest -d redis\n",
    "docker build -t node .\n",
    "docker run -d --name node -P --link latest:redis node\n",
    "docker ps -a # grab the reference\n",
    "\n",
    "CONTAINER ID        IMAGE             PORTS                     NAMES\n",
    "c98a1501864a        node              0.0.0.0:32771->4000/tcp   node\n",
    "092d5174a9a7        redis             6379/tcp                  latest\n",
    "</pre>"
   ]
  },
  {
   "cell_type": "code",
   "execution_count": null,
   "metadata": {
    "collapsed": true
   },
   "outputs": [],
   "source": [
    "from viz import local\n",
    "viz = local.VizNotebook('http://0.0.0.0:32771')"
   ]
  },
  {
   "cell_type": "code",
   "execution_count": null,
   "metadata": {
    "collapsed": true
   },
   "outputs": [],
   "source": []
  }
 ],
 "metadata": {
  "kernelspec": {
   "display_name": "Python 3",
   "language": "python",
   "name": "python3"
  },
  "language_info": {
   "codemirror_mode": {
    "name": "ipython",
    "version": 3
   },
   "file_extension": ".py",
   "mimetype": "text/x-python",
   "name": "python",
   "nbconvert_exporter": "python",
   "pygments_lexer": "ipython3",
   "version": "3.5.2"
  }
 },
 "nbformat": 4,
 "nbformat_minor": 0
}
