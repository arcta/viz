{
 "cells": [
  {
   "cell_type": "code",
   "execution_count": null,
   "metadata": {
    "collapsed": false
   },
   "outputs": [],
   "source": [
    "import numpy\n",
    "import pandas\n",
    "import datetime\n",
    "import time\n",
    "\n",
    "import nbclient as viz"
   ]
  },
  {
   "cell_type": "markdown",
   "metadata": {},
   "source": [
    "To make a line-chart with static data:\n",
    "<pre>\n",
    "viz.static( source, type='area', **kwargs )\n",
    "</pre>\n",
    "First argument is data in JSON format\n",
    "\n",
    "Here we use a simple convention of labeling variables:\n",
    "* x: independent variable ( X-axis )\n",
    "* y: response variable ( Y-axis )\n",
    "\n",
    "For type 'line' X and Y are required arguments.\n",
    "\n",
    "Y argument can take a list as value. X, Y could be numeric or categorical, as well as ordinal or date-time type of variables. ( Though, time-series make most sense of it. ) If Y parameter contains the list, Z parameter is derived from that list.\n",
    "\n",
    "Other accepted optional arguments:\n",
    "* title\n",
    "* colormap\n",
    "* xformat, yformat, zformat: custom tick / value formatting\n",
    "* xlabel, ylabel, zlabel: labels for axes and legend\n",
    "* xlog, ylog: logarithmic scale axis\n",
    "* xlim, ylim: clip display boundaries\n",
    "\n",
    "The latter might be better achieved with zoom setting bookmark. ( See examples below. )\n",
    "\n",
    "Custom colormap:\n",
    "* can be passed as a list of colors\n",
    "* can be passed as a dictionary\n",
    "\n",
    "Lets see some examples:"
   ]
  },
  {
   "cell_type": "code",
   "execution_count": null,
   "metadata": {
    "collapsed": false
   },
   "outputs": [],
   "source": [
    "df = pandas.DataFrame(numpy.random.randn(100, 3), columns=list('ABC'))\n",
    "df['B'] = df['B'].apply(lambda b: 1 + 1000*abs(b))\n",
    "df['C'] = df['C'].apply(lambda c: ['red','blue','yellow','green','purple','orange','lime'][int(abs(round(c)))])\n",
    "df['D'] = df.index.map(lambda i: datetime.datetime.fromtimestamp(time.time() - 43*i).strftime('%Y-%m-%d %H:%M:%S'))\n",
    "df['E'] = df['A'].apply(lambda a: 1000*a*a) - df['B']\n",
    "df.head()"
   ]
  },
  {
   "cell_type": "code",
   "execution_count": null,
   "metadata": {
    "collapsed": true
   },
   "outputs": [],
   "source": [
    "data = df.to_json(orient='records')"
   ]
  },
  {
   "cell_type": "code",
   "execution_count": null,
   "metadata": {
    "collapsed": false
   },
   "outputs": [],
   "source": [
    "viz.static(data, type='area',\n",
    "         x='D',\n",
    "         y='B',\n",
    "         title='Simple Area-Chart Example',\n",
    "         interpolate=True, ### defaults to False\n",
    "         mode='wiggle', ### defaults to 'base'\n",
    "         height=400, width='100%')"
   ]
  },
  {
   "cell_type": "markdown",
   "metadata": {},
   "source": [
    "Click on the plot will toggle the pin ( fixed x value selection ) which can be used with bookmark or png-napshot."
   ]
  },
  {
   "cell_type": "code",
   "execution_count": null,
   "metadata": {
    "collapsed": false
   },
   "outputs": [],
   "source": [
    "df = pandas.read_csv('app/static/data/timeseries.csv')\n",
    "df.head()"
   ]
  },
  {
   "cell_type": "code",
   "execution_count": null,
   "metadata": {
    "collapsed": true
   },
   "outputs": [],
   "source": [
    "data = df.to_json(orient='records')"
   ]
  },
  {
   "cell_type": "markdown",
   "metadata": {
    "collapsed": true
   },
   "source": [
    "If Y argument contains the list, Z is derived from that list, Z argument if passed will be ignored."
   ]
  },
  {
   "cell_type": "code",
   "execution_count": null,
   "metadata": {
    "collapsed": false
   },
   "outputs": [],
   "source": [
    "viz.static(data, type='area',\n",
    "         x='date',\n",
    "         y=['New York','San Francisco','Austin'],\n",
    "         xlabel='Date',\n",
    "         ylabel='Temperature (F)',\n",
    "         zlabel='City',\n",
    "         xformat='%Y %b %d',\n",
    "         colormap={'New York':'teal','San Francisco':'purple','Austin':'orange'},\n",
    "         title='Line-Chart Example',\n",
    "         ylim = [15,95],\n",
    "         #xlim=['2012-01-01','2012-06-01'],\n",
    "         height=500, width='100%')"
   ]
  },
  {
   "cell_type": "code",
   "execution_count": null,
   "metadata": {
    "collapsed": false
   },
   "outputs": [],
   "source": [
    "from IPython.display import IFrame\n",
    "\n",
    "IFrame('%s/static/dabbc2f251936dad341db2c6f3457d29/mnormalizep320p708400s4039005190386746s110s975500t210322424122916356599726977316844x13406468733881348454736591y01' % viz.host(),\n",
    "        height=400, width='100%')"
   ]
  },
  {
   "cell_type": "markdown",
   "metadata": {},
   "source": [
    "To make a line-chart with dynamic data source:\n",
    "<pre>\n",
    "viz.dynamic( source, type='line', **kwargs )\n",
    "</pre>\n",
    "First argument is URL end-point to retrieve the data in JSON format. This will always show current data when accessed. With refresh = N argument passed in it will refresh display in N seconds. ( No persistent connection. )"
   ]
  },
  {
   "cell_type": "code",
   "execution_count": null,
   "metadata": {
    "collapsed": false
   },
   "outputs": [],
   "source": [
    "viz.dynamic('%s/sample' % viz.host(), type='area',\n",
    "         x='B',\n",
    "         y=['A','E'],\n",
    "         colormap=['#06f','#f60'],\n",
    "         xlim=[0,3000],\n",
    "         ylim=[-6000,6000],\n",
    "         title='Line-Chart Example ( Dynamic Data Source )',\n",
    "         refresh=3, ### request for current data in 3 seconds ###\n",
    "         mode='wiggle',\n",
    "         interpolate=True,\n",
    "         height=400, width='100%')"
   ]
  },
  {
   "cell_type": "markdown",
   "metadata": {},
   "source": [
    "Finally, to make a line-chart streaming dynamic data source:\n",
    "<pre>\n",
    "viz.stream( channel, type='line', **kwargs )\n",
    "</pre>\n",
    "First argument is URL end-point emitting data. This will refresh display as new data arrived.\n",
    "With argument stream = N passed in it will keep sliding time-window of size N seconds in display.\n",
    "( Time-series type of data with persistent connection. )\n",
    "\n",
    "Attention: X argument if passed will be ignored, as it assumed to be a timestamp."
   ]
  },
  {
   "cell_type": "code",
   "execution_count": null,
   "metadata": {
    "collapsed": false
   },
   "outputs": [],
   "source": [
    "viz.stream('sample-io', type='area',\n",
    "         y='B',\n",
    "         title='Line-Chart Example ( Streaming Data )',\n",
    "         ylim = [0,8000],\n",
    "         xformat='%H:%M:%S',\n",
    "         interpolate=True,\n",
    "         mode='wiggle',\n",
    "         window = 120, ### 2 minute sliding time window in display ###\n",
    "         height=400, width='100%')"
   ]
  }
 ],
 "metadata": {
  "kernelspec": {
   "display_name": "Python 3",
   "language": "python",
   "name": "python3"
  },
  "language_info": {
   "codemirror_mode": {
    "name": "ipython",
    "version": 3
   },
   "file_extension": ".py",
   "mimetype": "text/x-python",
   "name": "python",
   "nbconvert_exporter": "python",
   "pygments_lexer": "ipython3",
   "version": "3.4.3"
  }
 },
 "nbformat": 4,
 "nbformat_minor": 0
}
