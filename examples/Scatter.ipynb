{
 "cells": [
  {
   "cell_type": "markdown",
   "metadata": {},
   "source": [
    "# Scatter-Plot"
   ]
  },
  {
   "cell_type": "code",
   "execution_count": 1,
   "metadata": {
    "collapsed": false
   },
   "outputs": [],
   "source": [
    "import numpy\n",
    "import pandas\n",
    "import datetime\n",
    "import time\n",
    "import json\n",
    "\n",
    "from viz import local\n",
    "viz = local.VizNotebook('http://0.0.0.0:32771')"
   ]
  },
  {
   "cell_type": "code",
   "execution_count": null,
   "metadata": {
    "collapsed": false
   },
   "outputs": [],
   "source": [
    "df = pandas.DataFrame(numpy.random.randn(1000, 3), columns=list('ABC'))\n",
    "df['B'] = df['B'].apply(lambda b: 1 + 1000*abs(b))\n",
    "df['C'] = df['C'].apply(lambda c: ['red','blue','yellow','green','purple','orange','lime'][int(abs(round(c)))])\n",
    "df['D'] = df.index.map(lambda i: datetime.datetime.fromtimestamp(time.time() - 43*i).strftime('%Y-%m-%d %H:%M:%S'))\n",
    "df['E'] = df['A'].apply(lambda a: 1000*a*a) - df['B']\n",
    "df.head()"
   ]
  },
  {
   "cell_type": "code",
   "execution_count": 3,
   "metadata": {
    "collapsed": false
   },
   "outputs": [
    {
     "name": "stdout",
     "output_type": "stream",
     "text": [
      "{'E': 269.976488951, 'D': '2017-01-15 14:54:45', 'A': 0.5322366369, 'C': 'red', 'B': 13.2993487025}\n"
     ]
    }
   ],
   "source": [
    "# data format: dictionary per observation\n",
    "data = df.to_json(orient='records')\n",
    "print(json.loads(data)[0])"
   ]
  },
  {
   "cell_type": "code",
   "execution_count": 4,
   "metadata": {
    "collapsed": false
   },
   "outputs": [
    {
     "name": "stdout",
     "output_type": "stream",
     "text": [
      "x               REQUIRE label to extract independent variable from data-source\n",
      "y               REQUIRE label to extract response variable from data-source\n",
      "colormap        DEFAULT None custom palette list or dictionary by `z` index / values\n",
      "description     DEFAULT scatter-plot\n",
      "fit             DEFAULT None [`Linear`]\n",
      "height          DEFAULT 500\n",
      "labels          DEFAULT None `z` labels for legend info dictionary\n",
      "refresh         DEFAULT None refresh period in seconds for dynamic data-source\n",
      "title           DEFAULT None\n",
      "transition      DEFAULT 1000 ms duration of animated transitions\n",
      "weight          DEFAULT None, label to extract weight parameter [ non-negative : dot size factor ]\n",
      "width           DEFAULT 100%\n",
      "window          DEFAULT 1 minute time-window in minutes keep in display for streaming data-source\n",
      "xformat         DEFAULT None custom tick / value formatting\n",
      "xlabel          DEFAULT `x` label\n",
      "xlim            DEFAULT None clip data-source X numeric range\n",
      "xlog            DEFAULT False logarithmic scale axis ATTENTION: positive above zero values only\n",
      "yformat         DEFAULT None custom tick / value formatting\n",
      "ylabel          DEFAULT `y` label\n",
      "ylim            DEFAULT None clip data-source Y numeric range\n",
      "ylog            DEFAULT False logarithmic scale axis ATTENTION: positive above zero values only\n",
      "z               DEFAULT None, label to extract parameter if any\n",
      "zbins           DEFAULT 10 for numeric `z` parameter histogram\n",
      "zdomain         DEFAULT None list of accepted values\n",
      "zformat         DEFAULT None custom tick / value formatting\n",
      "zlabel          DEFAULT `z` label\n",
      "zlim            DEFAULT None clip data-source Z numeric range\n"
     ]
    }
   ],
   "source": [
    "viz.args('scatter')"
   ]
  },
  {
   "cell_type": "code",
   "execution_count": null,
   "metadata": {
    "collapsed": false
   },
   "outputs": [],
   "source": [
    "viz.static(data, type='scatter', height=220, width='100%',\n",
    "           x='E',\n",
    "           y='C',\n",
    "           z='B',\n",
    "           description='X,Y,Z could be numeric or categoric',\n",
    "           zbins=4)"
   ]
  },
  {
   "cell_type": "code",
   "execution_count": null,
   "metadata": {
    "collapsed": false
   },
   "outputs": [],
   "source": [
    "viz.static(data, type='scatter', height=400, width='100%',\n",
    "                 x='D',\n",
    "                 y='B',\n",
    "                 z='A',\n",
    "                 colormap=['#06f','#f60'],\n",
    "                 title='Scatter-Plot Example ( Continuous Numeric Parameter )',\n",
    "                 xlabel='Timestamp',\n",
    "                 ylabel='Response Variable B',\n",
    "                 zlabel='Parameter A')"
   ]
  },
  {
   "cell_type": "code",
   "execution_count": null,
   "metadata": {
    "collapsed": false
   },
   "outputs": [],
   "source": [
    "viz.static(data, type='scatter', height=400, width='100%',\n",
    "           x='A',\n",
    "           y='B',\n",
    "           z='C',\n",
    "           colormap={'red':'crimson','blue':'steelblue','purple':'purple','green':'olive','yellow':'orange'},\n",
    "           title='Scatter-Plot Example ( Categorical Parameter )',\n",
    "           xlabel='Independent Variable A',\n",
    "           ylabel='Response Variable B',\n",
    "           zlabel='Parameter C')"
   ]
  },
  {
   "cell_type": "code",
   "execution_count": null,
   "metadata": {
    "collapsed": false
   },
   "outputs": [],
   "source": [
    "# DO NOT FORGET to SAVE the notebook before you publish (the last saved version will go)\n",
    "viz.publish(path_publish='projects/viz/app/static/examples/scatter', path_notebook='projects/viz/examples/Scatter')"
   ]
  },
  {
   "cell_type": "code",
   "execution_count": null,
   "metadata": {
    "collapsed": true
   },
   "outputs": [],
   "source": []
  }
 ],
 "metadata": {
  "kernelspec": {
   "display_name": "Python 3",
   "language": "python",
   "name": "python3"
  },
  "language_info": {
   "codemirror_mode": {
    "name": "ipython",
    "version": 3
   },
   "file_extension": ".py",
   "mimetype": "text/x-python",
   "name": "python",
   "nbconvert_exporter": "python",
   "pygments_lexer": "ipython3",
   "version": "3.5.2"
  }
 },
 "nbformat": 4,
 "nbformat_minor": 0
}
