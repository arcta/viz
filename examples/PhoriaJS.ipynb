{
 "cells": [
  {
   "cell_type": "markdown",
   "metadata": {
    "deletable": true,
    "editable": true
   },
   "source": [
    "# Using PhoriaJS for 3D View"
   ]
  },
  {
   "cell_type": "markdown",
   "metadata": {
    "deletable": true,
    "editable": true
   },
   "source": [
    "Example: quick adaptation of external JS libraries."
   ]
  },
  {
   "cell_type": "code",
   "execution_count": 1,
   "metadata": {
    "collapsed": false,
    "deletable": true,
    "editable": true
   },
   "outputs": [],
   "source": [
    "import numpy\n",
    "import pandas\n",
    "import datetime\n",
    "import time\n",
    "import json\n",
    "\n",
    "from viz import local\n",
    "viz = local.VizNotebook()"
   ]
  },
  {
   "cell_type": "code",
   "execution_count": 2,
   "metadata": {
    "collapsed": false,
    "deletable": true,
    "editable": true
   },
   "outputs": [
    {
     "name": "stdout",
     "output_type": "stream",
     "text": [
      "x               REQUIRE label to extract variable from data-source\n",
      "y               REQUIRE label to extract variable from data-source\n",
      "z               REQUIRE label to extract variable from data-source\n",
      "color           DEFAULT steelblue\n",
      "description     DEFAULT 3d view with Phoria http://www.kevs3d.co.uk/dev/phoria/\n",
      "height          DEFAULT 500\n",
      "title           DEFAULT None\n",
      "width           DEFAULT 100%\n",
      "xformat         DEFAULT x value formatting\n",
      "xlabel          DEFAULT `x` label\n",
      "yformat         DEFAULT y value formatting\n",
      "ylabel          DEFAULT `y` label\n",
      "zformat         DEFAULT z value formatting\n",
      "zlabel          DEFAULT `z` label\n"
     ]
    }
   ],
   "source": [
    "viz.args('phoria')"
   ]
  },
  {
   "cell_type": "code",
   "execution_count": 3,
   "metadata": {
    "collapsed": false,
    "deletable": true,
    "editable": true
   },
   "outputs": [
    {
     "data": {
      "text/html": [
       "<div>\n",
       "<table border=\"1\" class=\"dataframe\">\n",
       "  <thead>\n",
       "    <tr style=\"text-align: right;\">\n",
       "      <th></th>\n",
       "      <th>A</th>\n",
       "      <th>B</th>\n",
       "      <th>C</th>\n",
       "    </tr>\n",
       "  </thead>\n",
       "  <tbody>\n",
       "    <tr>\n",
       "      <th>0</th>\n",
       "      <td>0.000000</td>\n",
       "      <td>0.000000</td>\n",
       "      <td>1000.000000</td>\n",
       "    </tr>\n",
       "    <tr>\n",
       "      <th>1</th>\n",
       "      <td>9.950042</td>\n",
       "      <td>9.983342</td>\n",
       "      <td>999.950000</td>\n",
       "    </tr>\n",
       "    <tr>\n",
       "      <th>2</th>\n",
       "      <td>19.601332</td>\n",
       "      <td>39.733866</td>\n",
       "      <td>999.800007</td>\n",
       "    </tr>\n",
       "    <tr>\n",
       "      <th>3</th>\n",
       "      <td>28.660095</td>\n",
       "      <td>88.656062</td>\n",
       "      <td>999.550034</td>\n",
       "    </tr>\n",
       "    <tr>\n",
       "      <th>4</th>\n",
       "      <td>36.842440</td>\n",
       "      <td>155.767337</td>\n",
       "      <td>999.200107</td>\n",
       "    </tr>\n",
       "  </tbody>\n",
       "</table>\n",
       "</div>"
      ],
      "text/plain": [
       "           A           B            C\n",
       "0   0.000000    0.000000  1000.000000\n",
       "1   9.950042    9.983342   999.950000\n",
       "2  19.601332   39.733866   999.800007\n",
       "3  28.660095   88.656062   999.550034\n",
       "4  36.842440  155.767337   999.200107"
      ]
     },
     "execution_count": 3,
     "metadata": {},
     "output_type": "execute_result"
    }
   ],
   "source": [
    "# generate some data\n",
    "df = pandas.DataFrame(numpy.zeros((200, 3)), columns=list('ABC'))\n",
    "df['A'] += df.index.map(lambda i: 10 * i * numpy.cos(0.1 * i))\n",
    "df['B'] += df.index.map(lambda i: 100 * i * numpy.sin(0.1 * i))\n",
    "df['C'] += df.index.map(lambda i: 1000 * numpy.cos(0.01 * i))\n",
    "df.head()"
   ]
  },
  {
   "cell_type": "code",
   "execution_count": 4,
   "metadata": {
    "collapsed": false,
    "deletable": true,
    "editable": true
   },
   "outputs": [
    {
     "name": "stdout",
     "output_type": "stream",
     "text": [
      "{'A': 0.0, 'C': 1000.0, 'B': 0.0}\n"
     ]
    }
   ],
   "source": [
    "# data format: dictionary per observation\n",
    "data = df.to_json(orient='records')\n",
    "print(json.loads(data)[0])"
   ]
  },
  {
   "cell_type": "code",
   "execution_count": 5,
   "metadata": {
    "collapsed": false,
    "deletable": true,
    "editable": true
   },
   "outputs": [
    {
     "data": {
      "text/html": [
       "\n",
       "        <iframe\n",
       "            width=\"100%\"\n",
       "            height=\"800\"\n",
       "            src=\"http://192.168.1.145:4006/d3/static-phoria-f082a4f617fe90016e7a20145f5b8c7f\"\n",
       "            frameborder=\"0\"\n",
       "            allowfullscreen\n",
       "        ></iframe>\n",
       "        "
      ],
      "text/plain": [
       "<IPython.lib.display.IFrame at 0x7f37bba0e4e0>"
      ]
     },
     "execution_count": 5,
     "metadata": {},
     "output_type": "execute_result"
    }
   ],
   "source": [
    "viz.static(data, type='phoria', height=800, width='100%',\n",
    "           x='A',\n",
    "           y='B',\n",
    "           z='C',\n",
    "           title='Rotating 3D View')"
   ]
  },
  {
   "cell_type": "code",
   "execution_count": null,
   "metadata": {
    "collapsed": false,
    "deletable": true,
    "editable": true
   },
   "outputs": [],
   "source": [
    "# or directly\n",
    "viz.phoria(data, height=400, width='100%',\n",
    "           x='A',\n",
    "           y='B',\n",
    "           z='C',\n",
    "           title='Rotating 3D View',\n",
    "           xlabel='A variable',\n",
    "           ylabel='B variable',\n",
    "           zlabel='C variable')"
   ]
  },
  {
   "cell_type": "code",
   "execution_count": null,
   "metadata": {
    "collapsed": true
   },
   "outputs": [],
   "source": []
  }
 ],
 "metadata": {
  "kernelspec": {
   "display_name": "Python 3",
   "language": "python",
   "name": "python3"
  },
  "language_info": {
   "codemirror_mode": {
    "name": "ipython",
    "version": 3
   },
   "file_extension": ".py",
   "mimetype": "text/x-python",
   "name": "python",
   "nbconvert_exporter": "python",
   "pygments_lexer": "ipython3",
   "version": "3.4.3"
  }
 },
 "nbformat": 4,
 "nbformat_minor": 2
}
