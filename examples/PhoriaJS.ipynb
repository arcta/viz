{
 "cells": [
  {
   "cell_type": "markdown",
   "metadata": {
    "deletable": true,
    "editable": true
   },
   "source": [
    "# Using PhoriaJS for 3D View"
   ]
  },
  {
   "cell_type": "markdown",
   "metadata": {
    "deletable": true,
    "editable": true
   },
   "source": [
    "#### Example: quick adaptation of external JS libraries. \n",
    "( Here we use Phoria.js to generate interactive 3d view in the notebook. )\n",
    "* add meta [ **app/static/meta/phoria.json** ]:\n",
    "<code>\n",
    "{\n",
    "    \"type\":\"phoria\",\n",
    "    \"js\": [\"phoria/all\"],\n",
    "    \"css\": [\"phoria\"],\n",
    "    \"view\": \"phoria\",\n",
    "    \"layout\": \"phoria\",\n",
    "    \"description\":\"DEFAULT: 3d view with Phoria http://www.kevs3d.co.uk/dev/phoria/\",\n",
    "    \"x\":\"REQUIRE: label to extract variable from data-source\",\n",
    "    \"y\":\"REQUIRE: label to extract variable from data-source\",\n",
    "    \"z\":\"REQUIRE: label to extract variable from data-source\",\n",
    "    \"seg\":\"DEFAULT: None segmentation for colormap\",\n",
    "    \"xlabel\":\"DEFAULT: `x` label\",\n",
    "    \"ylabel\":\"DEFAULT: `y` label\",\n",
    "    \"zlabel\":\"DEFAULT: `z` label\",\n",
    "    \"title\":\"DEFAULT: None\",\n",
    "    \"mode\":\"DEFAULT: scatter [`scatter`,`line`]\",\n",
    "    \"stroke\":\"DEFAULT: 2\",\n",
    "    \"rotate\":\"DEFAULT: true\",\n",
    "    \"colormap\":\"DEFAULT: None or dictionary [ by seg value if `seg` is set ]\",\n",
    "    \"grid\":\"DEFAULT: 10 [ integer or `false` to hide ]\",\n",
    "    \"axes\":\"DEFAULT: true [ show axes ]\",\n",
    "    \"width\":\"DEFAULT: 100%\",\n",
    "    \"height\":\"DEFAULT: 500\"\n",
    "}\n",
    "</code>\n",
    "* add script [ **app/src/js/phoria/vis.js** ] to handle local adaptation\n",
    "* add css [ **app/src/css/phoria.css** ]\n",
    "* add templates [ **app/views/layout/phoria.hbs**, **app/views/phoria.hbs** ] to refer external resources\n",
    "* optional shortcat function in **viz/local.py**\n",
    "<pre>\n",
    "    def phoria(self, data, **kwargs):\n",
    "        '''\n",
    "        quick adaptation of Phoria JS library for rotating 3d view\n",
    "        '''\n",
    "        kwargs['type'] = 'phoria'\n",
    "        if 'seg'  not in kwargs: kwargs['seg'] = False\n",
    "        if 'axes' not in kwargs: kwargs['axes'] = True\n",
    "        if 'grid' not in kwargs: kwargs['grid'] = 10\n",
    "        return self.static(data, kwargs)\n",
    "</pre>\n",
    "\n",
    "Ready to go:"
   ]
  },
  {
   "cell_type": "code",
   "execution_count": 1,
   "metadata": {
    "collapsed": false,
    "deletable": true,
    "editable": true
   },
   "outputs": [],
   "source": [
    "import numpy\n",
    "import pandas\n",
    "import datetime\n",
    "import time\n",
    "import json\n",
    "\n",
    "from viz import local\n",
    "viz = local.VizNotebook()"
   ]
  },
  {
   "cell_type": "code",
   "execution_count": 2,
   "metadata": {
    "collapsed": false,
    "deletable": true,
    "editable": true
   },
   "outputs": [
    {
     "name": "stdout",
     "output_type": "stream",
     "text": [
      "x               REQUIRE label to extract variable from data-source\n",
      "y               REQUIRE label to extract variable from data-source\n",
      "z               REQUIRE label to extract variable from data-source\n",
      "axes            DEFAULT true [ show axes ]\n",
      "colormap        DEFAULT None or dictionary [ by seg value if `seg` is set ]\n",
      "description     DEFAULT 3d view with Phoria http://www.kevs3d.co.uk/dev/phoria/\n",
      "grid            DEFAULT 10 [ integer or `false` to hide ]\n",
      "height          DEFAULT 500\n",
      "mode            DEFAULT scatter [`scatter`,`line`]\n",
      "rotate          DEFAULT true\n",
      "seg             DEFAULT None segmentation for colormap\n",
      "stroke          DEFAULT 2\n",
      "title           DEFAULT None\n",
      "width           DEFAULT 100%\n",
      "xlabel          DEFAULT `x` label\n",
      "ylabel          DEFAULT `y` label\n",
      "zlabel          DEFAULT `z` label\n"
     ]
    }
   ],
   "source": [
    "viz.args('phoria')"
   ]
  },
  {
   "cell_type": "code",
   "execution_count": 3,
   "metadata": {
    "collapsed": false,
    "deletable": true,
    "editable": true
   },
   "outputs": [
    {
     "data": {
      "text/html": [
       "<div>\n",
       "<table border=\"1\" class=\"dataframe\">\n",
       "  <thead>\n",
       "    <tr style=\"text-align: right;\">\n",
       "      <th></th>\n",
       "      <th>sepal length (cm)</th>\n",
       "      <th>sepal width (cm)</th>\n",
       "      <th>petal length (cm)</th>\n",
       "      <th>petal width (cm)</th>\n",
       "      <th>target</th>\n",
       "    </tr>\n",
       "  </thead>\n",
       "  <tbody>\n",
       "    <tr>\n",
       "      <th>0</th>\n",
       "      <td>5.1</td>\n",
       "      <td>3.5</td>\n",
       "      <td>1.4</td>\n",
       "      <td>0.2</td>\n",
       "      <td>0.0</td>\n",
       "    </tr>\n",
       "    <tr>\n",
       "      <th>1</th>\n",
       "      <td>4.9</td>\n",
       "      <td>3.0</td>\n",
       "      <td>1.4</td>\n",
       "      <td>0.2</td>\n",
       "      <td>0.0</td>\n",
       "    </tr>\n",
       "    <tr>\n",
       "      <th>2</th>\n",
       "      <td>4.7</td>\n",
       "      <td>3.2</td>\n",
       "      <td>1.3</td>\n",
       "      <td>0.2</td>\n",
       "      <td>0.0</td>\n",
       "    </tr>\n",
       "    <tr>\n",
       "      <th>3</th>\n",
       "      <td>4.6</td>\n",
       "      <td>3.1</td>\n",
       "      <td>1.5</td>\n",
       "      <td>0.2</td>\n",
       "      <td>0.0</td>\n",
       "    </tr>\n",
       "    <tr>\n",
       "      <th>4</th>\n",
       "      <td>5.0</td>\n",
       "      <td>3.6</td>\n",
       "      <td>1.4</td>\n",
       "      <td>0.2</td>\n",
       "      <td>0.0</td>\n",
       "    </tr>\n",
       "  </tbody>\n",
       "</table>\n",
       "</div>"
      ],
      "text/plain": [
       "   sepal length (cm)  sepal width (cm)  petal length (cm)  petal width (cm)  \\\n",
       "0                5.1               3.5                1.4               0.2   \n",
       "1                4.9               3.0                1.4               0.2   \n",
       "2                4.7               3.2                1.3               0.2   \n",
       "3                4.6               3.1                1.5               0.2   \n",
       "4                5.0               3.6                1.4               0.2   \n",
       "\n",
       "   target  \n",
       "0     0.0  \n",
       "1     0.0  \n",
       "2     0.0  \n",
       "3     0.0  \n",
       "4     0.0  "
      ]
     },
     "execution_count": 3,
     "metadata": {},
     "output_type": "execute_result"
    }
   ],
   "source": [
    "# usage motivation\n",
    "from sklearn.datasets import load_iris\n",
    "iris = load_iris()\n",
    "df = pandas.DataFrame(data = numpy.c_[iris['data'], iris['target']], columns = iris['feature_names'] + ['target'])\n",
    "df.head()"
   ]
  },
  {
   "cell_type": "code",
   "execution_count": 4,
   "metadata": {
    "collapsed": false
   },
   "outputs": [],
   "source": [
    "from sklearn.decomposition import PCA\n",
    "pca = PCA(n_components = 3)\n",
    "pca.fit(df[df.columns[:-1]])\n",
    "C = pandas.DataFrame(pca.transform(df[df.columns[:-1]]), columns=['C1','C2','C3'])\n",
    "C['target'] = df['target'].apply(lambda t: ['setosa','versicolor','virginica'][int(t)-1])"
   ]
  },
  {
   "cell_type": "code",
   "execution_count": 5,
   "metadata": {
    "collapsed": false,
    "deletable": true,
    "editable": true
   },
   "outputs": [
    {
     "name": "stdout",
     "output_type": "stream",
     "text": [
      "{'C1': -2.6842071251, 'C3': -0.021511837, 'C2': 0.3266073148, 'target': 'virginica'}\n"
     ]
    }
   ],
   "source": [
    "# data format: dictionary per observation\n",
    "data = C.to_json(orient='records')\n",
    "print(json.loads(data)[0])"
   ]
  },
  {
   "cell_type": "code",
   "execution_count": 6,
   "metadata": {
    "collapsed": false,
    "deletable": true,
    "editable": true
   },
   "outputs": [
    {
     "data": {
      "text/html": [
       "\n",
       "        <iframe\n",
       "            width=\"100%\"\n",
       "            height=\"800\"\n",
       "            src=\"http://192.168.1.145:4006/d3/static-phoria-5dc8bdd36118fb77b7683bdd95670399\"\n",
       "            frameborder=\"0\"\n",
       "            allowfullscreen\n",
       "        ></iframe>\n",
       "        "
      ],
      "text/plain": [
       "<IPython.lib.display.IFrame at 0x7f2402de9f60>"
      ]
     },
     "execution_count": 6,
     "metadata": {},
     "output_type": "execute_result"
    }
   ],
   "source": [
    "viz.phoria(data, height=800, width='100%',\n",
    "           x='C1',\n",
    "           y='C2',\n",
    "           z='C3',\n",
    "           seg = 'target',\n",
    "           colormap = { 'setosa':'#48D1CC', 'versicolor':'#FF69D9', 'virginica':'#FF8C00' },\n",
    "           stroke = 8,\n",
    "           grid = 20,\n",
    "           title='Rotating 3D View')"
   ]
  },
  {
   "cell_type": "code",
   "execution_count": 7,
   "metadata": {
    "collapsed": false,
    "deletable": true,
    "editable": true
   },
   "outputs": [
    {
     "data": {
      "text/html": [
       "\n",
       "        <iframe\n",
       "            width=\"100%\"\n",
       "            height=\"500\"\n",
       "            src=\"http://192.168.1.145:4006/d3/static-phoria-f082a4f617fe90016e7a20145f5b8c7f\"\n",
       "            frameborder=\"0\"\n",
       "            allowfullscreen\n",
       "        ></iframe>\n",
       "        "
      ],
      "text/plain": [
       "<IPython.lib.display.IFrame at 0x7f23ff17db38>"
      ]
     },
     "execution_count": 7,
     "metadata": {},
     "output_type": "execute_result"
    }
   ],
   "source": [
    "df = pandas.DataFrame(numpy.zeros((200, 3)), columns=list('ABC'))\n",
    "df['A'] += df.index.map(lambda i: 10 * i * numpy.cos(0.1 * i))\n",
    "df['B'] += df.index.map(lambda i: 100 * i * numpy.sin(0.1 * i))\n",
    "df['C'] += df.index.map(lambda i: 1000 * numpy.cos(0.01 * i))\n",
    "\n",
    "viz.phoria(df.to_json(orient='records'),\n",
    "           x='A',\n",
    "           y='B',\n",
    "           z='C',\n",
    "           title='Interactive 3D View',\n",
    "           rotate = False,\n",
    "           mode = 'line')"
   ]
  },
  {
   "cell_type": "code",
   "execution_count": null,
   "metadata": {
    "collapsed": true,
    "deletable": true,
    "editable": true
   },
   "outputs": [],
   "source": [
    "viz.publish(path_publish='projects/viz/app/static/examples/phoria', path_notebook='projects/viz/examples/PhoriaJS')"
   ]
  },
  {
   "cell_type": "code",
   "execution_count": null,
   "metadata": {
    "collapsed": true,
    "deletable": true,
    "editable": true
   },
   "outputs": [],
   "source": []
  }
 ],
 "metadata": {
  "kernelspec": {
   "display_name": "Python 3",
   "language": "python",
   "name": "python3"
  },
  "language_info": {
   "codemirror_mode": {
    "name": "ipython",
    "version": 3
   },
   "file_extension": ".py",
   "mimetype": "text/x-python",
   "name": "python",
   "nbconvert_exporter": "python",
   "pygments_lexer": "ipython3",
   "version": "3.4.3"
  }
 },
 "nbformat": 4,
 "nbformat_minor": 2
}
