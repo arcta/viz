{
 "cells": [
  {
   "cell_type": "markdown",
   "metadata": {},
   "source": [
    "# Matrix-Heatmap"
   ]
  },
  {
   "cell_type": "code",
   "execution_count": 1,
   "metadata": {
    "collapsed": false
   },
   "outputs": [],
   "source": [
    "import numpy\n",
    "import pandas\n",
    "import datetime\n",
    "import time\n",
    "import json\n",
    "\n",
    "from viz import local\n",
    "viz = local.VizNotebook('http://www.arcta.me/projects/viz')"
   ]
  },
  {
   "cell_type": "code",
   "execution_count": null,
   "metadata": {
    "collapsed": false
   },
   "outputs": [],
   "source": [
    "df = pandas.DataFrame(numpy.random.randn(1000, 3), columns=list('ABC'))\n",
    "df['B'] = df['B'].apply(lambda b: 1 + 1000*abs(b))\n",
    "df['C'] = df['A'].apply(lambda a: ['red','blue','yellow','green','purple','orange','lime'][int(abs(round(a)))])\n",
    "df['D'] = df.index.map(lambda i: datetime.datetime.fromtimestamp(time.time() - 43*i).strftime('%Y-%m-%d %H:%M:%S'))\n",
    "df['E'] = df['A'].apply(lambda a: 1000*a*a) - df['B']\n",
    "df.head()"
   ]
  },
  {
   "cell_type": "code",
   "execution_count": 3,
   "metadata": {
    "collapsed": false
   },
   "outputs": [
    {
     "name": "stdout",
     "output_type": "stream",
     "text": [
      "{'B': 1.81123913, 'A': 0.9436226449, 'D': '2017-01-15 14:53:40', 'E': 888.6124568121, 'C': 'blue'}\n"
     ]
    }
   ],
   "source": [
    "# data format: dictionary per observation\n",
    "data = df.to_json(orient='records')\n",
    "print(json.loads(data)[0])"
   ]
  },
  {
   "cell_type": "code",
   "execution_count": 4,
   "metadata": {
    "collapsed": false
   },
   "outputs": [
    {
     "name": "stdout",
     "output_type": "stream",
     "text": [
      "x               REQUIRE label to extract x-axis variable from data-source\n",
      "y               REQUIRE label OR list of labels to extract y-axis variable from data-source\n",
      "aggr            DEFAULT `sum` aggregation method: if `z` is passed defaults to `mean`\n",
      "colormap        DEFAULT None custom palette list or dictionary by `z` index / values\n",
      "description     DEFAULT matrix-matrix\n",
      "height          DEFAULT 500\n",
      "refresh         DEFAULT None refresh period in seconds for dynamic data-source\n",
      "title           DEFAULT None\n",
      "transition      DEFAULT 1000 ms duration of animated transitions\n",
      "width           DEFAULT 100%\n",
      "window          DEFAULT 1 minute time-window in minutes keep in display for streaming data-source\n",
      "xbins           DEFAULT 10 for numeric `x`\n",
      "xformat         DEFAULT None custom tick / value formatting\n",
      "xlabel          DEFAULT `x` label\n",
      "xlim            DEFAULT None clip data-source X numeric range\n",
      "ybins           DEFAULT 10 for numeric `y`\n",
      "yformat         DEFAULT None custom tick / value formatting\n",
      "ylabel          DEFAULT `y` label\n",
      "ylim            DEFAULT None clip data-source Y numeric range\n",
      "z               DEFAULT None, label to extract parameter if any\n",
      "zbins           DEFAULT 10 for numeric `z`\n",
      "zformat         DEFAULT None custom tick / value formatting\n",
      "zlabel          DEFAULT `z` label\n"
     ]
    }
   ],
   "source": [
    "viz.args('matrix')"
   ]
  },
  {
   "cell_type": "code",
   "execution_count": null,
   "metadata": {
    "collapsed": false
   },
   "outputs": [],
   "source": [
    "viz.static(data, type='matrix', height=200, width='95%',\n",
    "           x='B',\n",
    "           y='C',\n",
    "           colormap=['lightgray','black'],\n",
    "           description='X & Y Probability',\n",
    "           title='Matrix-Histogram ( density )')"
   ]
  },
  {
   "cell_type": "code",
   "execution_count": null,
   "metadata": {
    "collapsed": false
   },
   "outputs": [],
   "source": [
    "viz.static(data, type='matrix', height=200, width='95%',\n",
    "           x='B',\n",
    "           y='C',\n",
    "           z='A',\n",
    "           colormap=['blue','red'],\n",
    "           description='Average Z given X & Y',\n",
    "           title='Matrix-Histogram ( z distribution )')"
   ]
  },
  {
   "cell_type": "code",
   "execution_count": null,
   "metadata": {
    "collapsed": false
   },
   "outputs": [],
   "source": [
    "viz.static(data, type='matrix', height=400, width='95%',\n",
    "           x='A',\n",
    "           y='B',\n",
    "           colormap=['lightgray','red'],\n",
    "           xlabel='Parameter A',\n",
    "           ylabel='Parameter B')"
   ]
  },
  {
   "cell_type": "code",
   "execution_count": null,
   "metadata": {
    "collapsed": false
   },
   "outputs": [],
   "source": [
    "viz.static(data, type='matrix', height=400, width='95%',\n",
    "           x='A',\n",
    "           y='E',\n",
    "           z='B',\n",
    "           colormap=['cyan','purple'],\n",
    "           xlabel='Parameter A',\n",
    "           ylabel='Parameter B',\n",
    "           zbins=4)"
   ]
  },
  {
   "cell_type": "code",
   "execution_count": null,
   "metadata": {
    "collapsed": false
   },
   "outputs": [],
   "source": [
    "viz.static(data, type='matrix', height=400, width='95%',\n",
    "           x='D',\n",
    "           y='E',\n",
    "           colormap=['red','orange'],\n",
    "           xlabel='Timespan',\n",
    "           xformat='%H:%M:%S',\n",
    "           ylabel='E Value Distribution',\n",
    "           xbins=10,\n",
    "           ybins=30,\n",
    "           zbins=4,\n",
    "           description='Can be used with timeseries')"
   ]
  },
  {
   "cell_type": "code",
   "execution_count": null,
   "metadata": {
    "collapsed": true
   },
   "outputs": [],
   "source": [
    "# DO NOT FORGET to SAVE the notebook before you publish (the last saved version will go)\n",
    "viz.publish(path_publish='projects/viz/app/static/examples/matrix', path_notebook='projects/viz/examples/Matrix')"
   ]
  },
  {
   "cell_type": "code",
   "execution_count": null,
   "metadata": {
    "collapsed": true
   },
   "outputs": [],
   "source": []
  }
 ],
 "metadata": {
  "kernelspec": {
   "display_name": "Python 3",
   "language": "python",
   "name": "python3"
  },
  "language_info": {
   "codemirror_mode": {
    "name": "ipython",
    "version": 3
   },
   "file_extension": ".py",
   "mimetype": "text/x-python",
   "name": "python",
   "nbconvert_exporter": "python",
   "pygments_lexer": "ipython3",
   "version": "3.4.3"
  }
 },
 "nbformat": 4,
 "nbformat_minor": 0
}
