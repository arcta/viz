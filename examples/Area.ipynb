{
 "cells": [
  {
   "cell_type": "markdown",
   "metadata": {},
   "source": [
    "# Area-Chart"
   ]
  },
  {
   "cell_type": "code",
   "execution_count": 1,
   "metadata": {
    "collapsed": false
   },
   "outputs": [],
   "source": [
    "import numpy\n",
    "import pandas\n",
    "import datetime\n",
    "import time\n",
    "import json\n",
    "\n",
    "from viz import local\n",
    "viz = local.VizNotebook('http://www.arcta.me/projects/viz')"
   ]
  },
  {
   "cell_type": "code",
   "execution_count": null,
   "metadata": {
    "collapsed": false,
    "scrolled": true
   },
   "outputs": [],
   "source": [
    "# generate some data\n",
    "df = pandas.DataFrame(numpy.random.rand(200, 3), columns=list('ABC'))\n",
    "df['B'] = df['B'].apply(lambda b: 100*b)\n",
    "df['C'] = 0.5*df['B'] + 50*df['A']\n",
    "df['D'] = df.index.map(lambda i: datetime.datetime.fromtimestamp(time.time() - 43*i).strftime('%Y-%m-%d %H:%M:%S'))\n",
    "df.head()"
   ]
  },
  {
   "cell_type": "code",
   "execution_count": 3,
   "metadata": {
    "collapsed": false
   },
   "outputs": [
    {
     "name": "stdout",
     "output_type": "stream",
     "text": [
      "{'A': 0.9495749214, 'B': 33.6443046498, 'C': 64.3008983968, 'D': '2017-01-18 21:03:07'}\n"
     ]
    }
   ],
   "source": [
    "# data format: dictionary per observation\n",
    "data = df.to_json(orient='records')\n",
    "print(json.loads(data)[0])"
   ]
  },
  {
   "cell_type": "code",
   "execution_count": 4,
   "metadata": {
    "collapsed": false
   },
   "outputs": [
    {
     "name": "stdout",
     "output_type": "stream",
     "text": [
      "x               REQUIRE label to extract independent variable from data-source\n",
      "y               REQUIRE label OR list of labels to extract response variable(s) from data-source\n",
      "bins            DEFAULT 10 for rolling-averages\n",
      "colormap        DEFAULT None custom palette list or dictionary by `z` index / values\n",
      "ctrl            DEFAULT [`absolute`,`normalized`,`averages`] display modes\n",
      "description     DEFAULT area-chart stack\n",
      "height          DEFAULT 500\n",
      "interpolate     DEFAULT Linear [`Natural`,`Basis`]\n",
      "labels          DEFAULT None `z` labels for legend info dictionary\n",
      "mode            DEFAULT absolute\n",
      "refresh         DEFAULT None refresh period in seconds for dynamic data-source\n",
      "title           DEFAULT None\n",
      "transition      DEFAULT 1000 ms duration of animated transitions\n",
      "width           DEFAULT 100%\n",
      "window          DEFAULT 1 minute time-window in minutes keep in display for streaming data-source\n",
      "xformat         DEFAULT None custom tick / value formatting\n",
      "xlabel          DEFAULT `x` label\n",
      "xlim            DEFAULT None clip data-source numeric range\n",
      "yformat         DEFAULT None custom tick / value formatting\n",
      "ylabel          DEFAULT `y` label\n",
      "ylim            DEFAULT None clip data-source numeric range\n",
      "ylog            DEFAULT False logarithmic scale axis ATTENTION: positive above zero values only\n",
      "z               DEFAULT None, label to extract parameter; if `y` is not a list\n",
      "zdomain         DEFAULT None list of accepted values\n",
      "zformat         DEFAULT None custom tick / value formatting\n",
      "zlabel          DEFAULT `z` label\n"
     ]
    }
   ],
   "source": [
    "viz.args('area')"
   ]
  },
  {
   "cell_type": "code",
   "execution_count": null,
   "metadata": {
    "collapsed": false
   },
   "outputs": [],
   "source": [
    "viz.static(data, type='area', height=400, width='100%',\n",
    "           x='D',\n",
    "           y=['A','B','C'],\n",
    "           title='Area-Chart ( static data )',\n",
    "           xformat='%H:%M:%S',\n",
    "           xlabel='Tmestamp',\n",
    "           ylabel='Observation Value',\n",
    "           description='A, B, C variables stream-plot',\n",
    "           labels={'A':'Variable A range [0,1]','B':'Variable B range [0,100]','C':'Variable C range [0,100]'})"
   ]
  },
  {
   "cell_type": "markdown",
   "metadata": {},
   "source": [
    "Transitions might be important: they give visual clues to the relationships existing in the data."
   ]
  },
  {
   "cell_type": "code",
   "execution_count": null,
   "metadata": {
    "collapsed": false
   },
   "outputs": [],
   "source": [
    "# use redis pubsub to stream data\n",
    "from viz import pubsub\n",
    "viz = pubsub.VizNotebook('http://www.arcta.me/projects/viz', dev=True)"
   ]
  },
  {
   "cell_type": "code",
   "execution_count": null,
   "metadata": {
    "collapsed": false
   },
   "outputs": [],
   "source": [
    "# loads current data on access\n",
    "viz.dynamic('http://192.168.1.145:4004/sample/100', type='area', height=350, width='100%',\n",
    "            x='D',\n",
    "            y=['B','F'],\n",
    "            mode='wiggle',\n",
    "            title='Area-Chart ( data loads on access )')"
   ]
  },
  {
   "cell_type": "code",
   "execution_count": null,
   "metadata": {
    "collapsed": false
   },
   "outputs": [],
   "source": [
    "# listens to pubsub messages\n",
    "viz.stream('http://192.168.1.145:4004/sample-io', type='area', height=350, width='100%',\n",
    "            x='D',\n",
    "            y=['A','B','E'],\n",
    "            title='Area-Chart ( data appended as arrived )',\n",
    "            interpolate='Basis',\n",
    "            mode='normalized',\n",
    "            xformat='%H:%M:%S')"
   ]
  },
  {
   "cell_type": "code",
   "execution_count": null,
   "metadata": {
    "collapsed": false
   },
   "outputs": [],
   "source": [
    "# DO NOT FORGET to SAVE the notebook before you publish (the last saved version will go)\n",
    "#viz.publish(path_publish='projects/viz/app/static/examples/area', path_notebook='projects/viz/examples/Area')"
   ]
  }
 ],
 "metadata": {
  "kernelspec": {
   "display_name": "Python 3",
   "language": "python",
   "name": "python3"
  },
  "language_info": {
   "codemirror_mode": {
    "name": "ipython",
    "version": 3
   },
   "file_extension": ".py",
   "mimetype": "text/x-python",
   "name": "python",
   "nbconvert_exporter": "python",
   "pygments_lexer": "ipython3",
   "version": "3.4.3"
  }
 },
 "nbformat": 4,
 "nbformat_minor": 0
}
