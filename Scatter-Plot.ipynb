{
 "cells": [
  {
   "cell_type": "code",
   "execution_count": null,
   "metadata": {
    "collapsed": false
   },
   "outputs": [],
   "source": [
    "import numpy\n",
    "import pandas\n",
    "import datetime\n",
    "import time\n",
    "\n",
    "import nbclient as viz"
   ]
  },
  {
   "cell_type": "markdown",
   "metadata": {},
   "source": [
    "To make a scatter plot with static data:\n",
    "<pre>\n",
    "viz.static( source, type='scatter', **kwargs )\n",
    "</pre>\n",
    "First argument is data in JSON format\n",
    "\n",
    "Here we use a simple convention of labeling variables:\n",
    "* x: independent variable ( X-axis )\n",
    "* y: response variable ( Y-axis )\n",
    "* z: parameter ( legend ) if any\n",
    "\n",
    "For type 'scatter' X and Y are required arguments, Z is optional.\n",
    "\n",
    "Y argument can take a list as value. X, Y, Z could be numeric or categorical, as well as ordinal or date-time type of variables.\n",
    "\n",
    "Other accepted optional arguments:\n",
    "* title\n",
    "* colormap\n",
    "* xformat, yformat, zformat: custom tick / value formatting\n",
    "* xlabel, ylabel, zlabel: labels for axes and legend\n",
    "* xlog, ylog: logarithmic scale axis\n",
    "* xbox, ybox: show background box-plot ( quartiles )\n",
    "* xlim, ylim: clip display boundaries\n",
    "\n",
    "The latter might be better achieved with zoom setting bookmark. ( See examples below. )\n",
    "\n",
    "Custom colormap:\n",
    "* numeric Z: can be set as a gradient by passing lower and upper color boundaries\n",
    "* ordinal / categorical Z: can be passed as a list of colors\n",
    "* categorical Z: can be passed as a dictionary\n",
    "\n",
    "Lets see some examples:"
   ]
  },
  {
   "cell_type": "code",
   "execution_count": null,
   "metadata": {
    "collapsed": false
   },
   "outputs": [],
   "source": [
    "df = pandas.DataFrame(numpy.random.randn(100, 3), columns=list('ABC'))\n",
    "df['B'] = df['B'].apply(lambda b: 1 + 1000*abs(b))\n",
    "df['C'] = df['C'].apply(lambda c: ['red','blue','yellow','green','purple','orange','lime'][int(abs(round(c)))])\n",
    "df['D'] = df.index.map(lambda i: datetime.datetime.fromtimestamp(time.time() - 43*i).strftime('%Y-%m-%d %H:%M:%S'))\n",
    "df['E'] = df['A'].apply(lambda a: 1000*a*a) - df['B']\n",
    "df.head()"
   ]
  },
  {
   "cell_type": "code",
   "execution_count": null,
   "metadata": {
    "collapsed": true
   },
   "outputs": [],
   "source": [
    "data = df.to_json(orient='records')\n",
    "\n",
    "### to keep the index\n",
    "# data = df.reset_index().to_json(orient='records')"
   ]
  },
  {
   "cell_type": "code",
   "execution_count": null,
   "metadata": {
    "collapsed": false
   },
   "outputs": [],
   "source": [
    "viz.static(data, type='scatter',\n",
    "         x='A',\n",
    "         y='B',\n",
    "         title='Simple Scatter-Plot Example ',\n",
    "         height=400, width='100%')"
   ]
  },
  {
   "cell_type": "code",
   "execution_count": null,
   "metadata": {
    "collapsed": false
   },
   "outputs": [],
   "source": [
    "viz.static(data, type='scatter',\n",
    "         x='D',\n",
    "         y='B',\n",
    "         z='A',\n",
    "         colormap=['#06f','#f60'],\n",
    "         title='Scatter-Plot Example ( Continuous Numeric Parameter )',\n",
    "         xlabel='Timestamp',\n",
    "         ylabel='Response Variable B',\n",
    "         zlabel='Parameter A',\n",
    "         ybox = True,\n",
    "         height=400, width='100%')"
   ]
  },
  {
   "cell_type": "markdown",
   "metadata": {},
   "source": [
    "With addditional parameter ( argument Z ) the legend is shown which allows interactive filter/selection of data poins. ( Z-scale is zoomable: the number of bins can be adjusted by mouse-wheeling over. )"
   ]
  },
  {
   "cell_type": "code",
   "execution_count": null,
   "metadata": {
    "collapsed": false
   },
   "outputs": [],
   "source": [
    "viz.static(data, type='scatter',\n",
    "         x='A',\n",
    "         y='B',\n",
    "         z='C',\n",
    "         colormap={'red':'red','blue':'blue','purple':'purple','green':'teal','yellow':'orange'},\n",
    "         title='Scatter-Plot Example ( Categorical Parameter )',\n",
    "         xlabel='Independent Variable A',\n",
    "         ylabel='Response Variable B',\n",
    "         zlabel='Parameter C',\n",
    "         xbox=True,\n",
    "         ybox=True,\n",
    "         height=400, width='100%')"
   ]
  },
  {
   "cell_type": "markdown",
   "metadata": {},
   "source": [
    "By default the legend will show Z distribution as histogram ( numeric Z ) or pie ( categorical Z ).\n",
    "This feature is interactive: enables dynamic filtered display of data points.\n",
    "To remove it pass summary = False argument."
   ]
  },
  {
   "cell_type": "code",
   "execution_count": null,
   "metadata": {
    "collapsed": false
   },
   "outputs": [],
   "source": [
    "df = pandas.read_csv('app/static/data/timeseries.csv')\n",
    "df.head()"
   ]
  },
  {
   "cell_type": "code",
   "execution_count": null,
   "metadata": {
    "collapsed": true
   },
   "outputs": [],
   "source": [
    "data = df.to_json(orient='records')"
   ]
  },
  {
   "cell_type": "markdown",
   "metadata": {
    "collapsed": true
   },
   "source": [
    "If Y argument contains the list, Z is derived from that list, Z argument if passed will be ignored."
   ]
  },
  {
   "cell_type": "code",
   "execution_count": null,
   "metadata": {
    "collapsed": false
   },
   "outputs": [],
   "source": [
    "viz.static(data, type='scatter',\n",
    "         x='date',\n",
    "         y=['New York','San Francisco','Austin'],\n",
    "         xlabel='Date',\n",
    "         ylabel='Temperature (F)',\n",
    "         zlabel='City',\n",
    "         xformat='%Y %b %d',\n",
    "         colormap={'New York':'teal','San Francisco':'purple','Austin':'orange'},\n",
    "         title='Scatter-Plot Example',\n",
    "         height=400, width='100%')"
   ]
  },
  {
   "cell_type": "code",
   "execution_count": null,
   "metadata": {
    "collapsed": false
   },
   "outputs": [],
   "source": [
    "viz.static(data, type='scatter',\n",
    "         x='New York',\n",
    "         y='San Francisco',\n",
    "         z='Austin',\n",
    "         colormap=['blue','red'],\n",
    "         title='Scatter-Plot Deep-Link Example',\n",
    "         height=400, width='100%')"
   ]
  },
  {
   "cell_type": "markdown",
   "metadata": {},
   "source": [
    "If Z is numeric, the histogram appearing on the legend is zoomable: the number of bins can be changed by mouse-wheeling over. Any adjustment or selection can be bookmarked. ( Below is a 'bookmarked' state of the visualization above. )"
   ]
  },
  {
   "cell_type": "code",
   "execution_count": null,
   "metadata": {
    "collapsed": false
   },
   "outputs": [],
   "source": [
    "from IPython.display import IFrame\n",
    "\n",
    "IFrame('%s/static/0ffe31dea4378a6c9919e34f3a82f41d/p748300s18000038595870254s34s975400t61262248350019751178262902124996x50640970618456838902977719349029y48916857840429876197238540' % viz.host(),\n",
    "        height=400, width='100%')"
   ]
  },
  {
   "cell_type": "markdown",
   "metadata": {},
   "source": [
    "To make a scatter plot with dynamic data source:\n",
    "<pre>\n",
    "viz.dynamic( source, type='scatter', **kwargs )\n",
    "</pre>\n",
    "First argument is URL end-point to retrieve the data in JSON format. This will always show current data when accessed. With refresh = N argument passed in it will refresh display in N seconds. ( The data is not necessarily time-series type, no persistent connection. )"
   ]
  },
  {
   "cell_type": "code",
   "execution_count": null,
   "metadata": {
    "collapsed": false
   },
   "outputs": [],
   "source": [
    "viz.dynamic('%s/sample' % viz.host(), type='scatter',\n",
    "         x='B',\n",
    "         y='E',\n",
    "         z='A',\n",
    "         colormap=['#06f','#f60'],\n",
    "         title='Scatter-Plot Example ( Dynamic Data Source )',\n",
    "         xlabel='Variable B',\n",
    "         ylabel='Variable E',\n",
    "         zlabel='Parameter A',\n",
    "         xlim = [0,3000],\n",
    "         ylim = [-3000,6000],\n",
    "         zlim = [-2.5, 2.5],\n",
    "         xbox = True,\n",
    "         ybox = True,\n",
    "         refresh=3, ### request for current data in 3 seconds ###\n",
    "         height=400, width='100%')"
   ]
  },
  {
   "cell_type": "markdown",
   "metadata": {},
   "source": [
    "With dynamic data source there's no bookmarking capability, but, a png snapshot can be taken and saved locally.\n",
    "\n",
    "Finally, to make a scatter plot streaming dynamic data source:\n",
    "<pre>\n",
    "viz.stream( channel, type='scatter', **kwargs )\n",
    "</pre>\n",
    "First argument is URL end-point emitting data. This will refresh display as new data arrives.\n",
    "With argument stream = N passed in it will keep sliding time-window of size N seconds in display.\n",
    "( Time-series type of data with persistent connection. )\n",
    "The data points appear on the plot as they arrive and disappear when older than the time-window specified."
   ]
  },
  {
   "cell_type": "code",
   "execution_count": null,
   "metadata": {
    "collapsed": false
   },
   "outputs": [],
   "source": [
    "viz.stream('sample-io', type='scatter',\n",
    "         x='B',\n",
    "         y='E',\n",
    "         z='C',\n",
    "         colormap={'red':'red','blue':'blue','purple':'purple','yellow':'orange','green':'teal'},\n",
    "         title='Scatter-Plot Example ( Streaming Data )',\n",
    "         xlabel='Variable B',\n",
    "         ylabel='Variable E',\n",
    "         zlabel='Parameter C',\n",
    "         xlim = [0,3000],\n",
    "         ylim = [-3000,6000],\n",
    "         zdomain = ['red','blue','yellow','green','purple'],\n",
    "         window = 120, ### 2 minute sliding time window in display ###\n",
    "         height=400, width='100%')"
   ]
  },
  {
   "cell_type": "code",
   "execution_count": null,
   "metadata": {
    "collapsed": false
   },
   "outputs": [],
   "source": [
    "viz.stream('sample-io', type='scatter',\n",
    "         x='B',\n",
    "         y='E',\n",
    "         z='A',\n",
    "         colormap=['#06f','#f60'],\n",
    "         title='Scatter-Plot Example ( Streaming Data )',\n",
    "         xlabel='Variable B',\n",
    "         ylabel='Variable E',\n",
    "         zlabel='Parameter A',\n",
    "         xlim = [0,3000],\n",
    "         ylim = [-3000,6000],\n",
    "         zlim = [-2.5, 2.5],\n",
    "         window = 60, ### 1 minute sliding time window in display ###\n",
    "         height=400, width='100%')"
   ]
  }
 ],
 "metadata": {
  "kernelspec": {
   "display_name": "Python 3",
   "language": "python",
   "name": "python3"
  },
  "language_info": {
   "codemirror_mode": {
    "name": "ipython",
    "version": 3
   },
   "file_extension": ".py",
   "mimetype": "text/x-python",
   "name": "python",
   "nbconvert_exporter": "python",
   "pygments_lexer": "ipython3",
   "version": "3.4.3"
  }
 },
 "nbformat": 4,
 "nbformat_minor": 0
}
